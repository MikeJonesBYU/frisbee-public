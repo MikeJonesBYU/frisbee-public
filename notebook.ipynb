# this is a test. 
print "2" 
